{
 "cells": [
  {
   "attachments": {},
   "cell_type": "markdown",
   "id": "9fddfee9",
   "metadata": {},
   "source": [
    "# Anime Recommender System"
   ]
  },
  {
   "cell_type": "code",
   "execution_count": null,
   "id": "2db936b5",
   "metadata": {},
   "outputs": [
    {
     "ename": "",
     "evalue": "",
     "output_type": "error",
     "traceback": [
      "\u001b[1;31mRunning cells with 'assignement2 (Python 3.12.7)' requires the ipykernel package.\n",
      "\u001b[1;31m<a href='command:jupyter.createPythonEnvAndSelectController'>Create a Python Environment</a> with the required packages.\n",
      "\u001b[1;31mOr install 'ipykernel' using the command: 'conda install -n assignement2 ipykernel --update-deps --force-reinstall'"
     ]
    }
   ],
   "source": [
    "%pip install matplotlib\n",
    "\n",
    "import numpy as np\n",
    "import pandas as pd\n",
    "import matplotlib.pyplot as plt"
   ]
  },
  {
   "cell_type": "code",
   "execution_count": null,
   "id": "ba44579d",
   "metadata": {},
   "outputs": [],
   "source": [
    "df = pd.read_csv(\"anime.csv\")\n",
    "df"
   ]
  },
  {
   "cell_type": "code",
   "execution_count": null,
   "id": "04e3ea54",
   "metadata": {},
   "outputs": [],
   "source": [
    "df.tail()"
   ]
  },
  {
   "cell_type": "code",
   "execution_count": null,
   "id": "432bc744",
   "metadata": {},
   "outputs": [],
   "source": [
    "# df[\"Related_anime\"][0]"
   ]
  },
  {
   "cell_type": "code",
   "execution_count": null,
   "id": "9294954c",
   "metadata": {},
   "outputs": [],
   "source": [
    "df.isna().sum()"
   ]
  },
  {
   "cell_type": "code",
   "execution_count": null,
   "id": "ced9fca0",
   "metadata": {},
   "outputs": [],
   "source": [
    "df.columns.values.tolist() "
   ]
  },
  {
   "cell_type": "code",
   "execution_count": null,
   "id": "2c3b6274",
   "metadata": {},
   "outputs": [],
   "source": [
    "df.info()"
   ]
  },
  {
   "attachments": {},
   "cell_type": "markdown",
   "id": "89d0374c",
   "metadata": {},
   "source": [
    "## Data Cleaning"
   ]
  },
  {
   "attachments": {},
   "cell_type": "markdown",
   "id": "baa6fdbf",
   "metadata": {},
   "source": [
    "### General Observations\n",
    "1. Rank - Rank is quite important for recommending an anime, but since it is determined using the rating, we will not be taking this column.\n",
    "2. Name - Not relevant to the recommendation.\n",
    "3. Japanese_name - Not relevant to the recommendation.\n",
    "4. Type - Anime type (TV or Web) is not a determining factor for recommendation purposes.\n",
    "5. Episodes - The number of episodes is not considered influential for the recommendation system.\n",
    "6. Studio - It could be somewhat influential, but for simplicity, we will not include this feature in this model (will be included in the next version).\n",
    "7. Release_season - Release season is also not that influential.\n",
    "8. Tags - This feature is quite important as one might like another anime having the same tags or the same genre.\n",
    "9. Rating - It is quite an important feature to measure the quality of an anime.\n",
    "10. Release_year - Not relevant to the recommendation.\n",
    "11. End_year - It is also not that relevant.\n",
    "12. Description - It is quite important as it tells us about the anime and can be useful for comparison.\n",
    "13. Content_Warning - This could be a potential influencer in the recommender, but just for simplicity, we will not consider it (will be included in the next version).\n",
    "14. Related_Mange - Not relevant to the recommendation.\n",
    "15. Related_anime - This is also a good feature to recommend related anime, but since we included the description, we need not include this feature (might be included in the next version).\n",
    "16. Voice_actors - Not relevant as it is not a determining factor to watch an anime.\n",
    "17. Staff - The director might be an important feature, but just for simplicity, we will not consider it (will be included in the next version).\n",
    "\n",
    "-It can be seen that most of ```NaN``` values are at the bottom of the dataset."
   ]
  },
  {
   "attachments": {},
   "cell_type": "markdown",
   "id": "36fd1606",
   "metadata": {},
   "source": [
    "Based on our observations and preferences, here is the list of features that we are including in our anime recommendation model:\n",
    "\n",
    "1. Tags\n",
    "2. Rating\n",
    "3. Description\n"
   ]
  },
  {
   "cell_type": "code",
   "execution_count": null,
   "id": "2518ea92",
   "metadata": {},
   "outputs": [],
   "source": [
    "new_df = df.drop([  'Rank',\n",
    "                    'Japanese_name',\n",
    "                    'Type',\n",
    "                    'Episodes',\n",
    "                    'Studio',\n",
    "                    'Release_season',\n",
    "                    'Release_year',\n",
    "                    'End_year',\n",
    "                    'Content_Warning',\n",
    "                    'Related_Mange',\n",
    "                    'Related_anime',\n",
    "                    'Voice_actors',\n",
    "                    'staff'],axis=1)\n",
    "new_df"
   ]
  },
  {
   "cell_type": "code",
   "execution_count": null,
   "id": "8d08540c",
   "metadata": {},
   "outputs": [],
   "source": [
    "new_df.isna().sum()"
   ]
  },
  {
   "attachments": {},
   "cell_type": "markdown",
   "id": "00ae0137",
   "metadata": {},
   "source": [
    "Since description,rating and tags both are quite important features, we have to delete the rows with na in them, in order to make a good model.<br>\n",
    "It can be seen that most of ```NaN``` values are at the bottom of the dataset."
   ]
  },
  {
   "cell_type": "code",
   "execution_count": null,
   "id": "ca205690",
   "metadata": {},
   "outputs": [],
   "source": [
    "final = new_df.dropna()"
   ]
  },
  {
   "cell_type": "code",
   "execution_count": null,
   "id": "35b1ebf2",
   "metadata": {},
   "outputs": [],
   "source": [
    "final.info()"
   ]
  },
  {
   "attachments": {},
   "cell_type": "markdown",
   "id": "8a942173",
   "metadata": {},
   "source": [
    "### We will make a combined feature using Tags and Description"
   ]
  },
  {
   "attachments": {},
   "cell_type": "markdown",
   "id": "cbf93b7f",
   "metadata": {},
   "source": [
    "### Tags"
   ]
  },
  {
   "cell_type": "code",
   "execution_count": null,
   "id": "b5b65456",
   "metadata": {},
   "outputs": [],
   "source": [
    "final[\"Tags\"][2].split(\", \")\n",
    "# we can seperate all the tags using \", \" seperator."
   ]
  },
  {
   "cell_type": "code",
   "execution_count": null,
   "id": "443298ca",
   "metadata": {},
   "outputs": [],
   "source": [
    "def convert_tags(s):\n",
    "    return s.split(\", \")"
   ]
  },
  {
   "cell_type": "code",
   "execution_count": null,
   "id": "064ad352",
   "metadata": {},
   "outputs": [],
   "source": [
    "final[\"Tags\"] = final[\"Tags\"].apply(convert_tags)\n",
    "final"
   ]
  },
  {
   "attachments": {},
   "cell_type": "markdown",
   "id": "92f5ad8f",
   "metadata": {},
   "source": [
    "### Description"
   ]
  },
  {
   "cell_type": "code",
   "execution_count": null,
   "id": "90c87b38",
   "metadata": {},
   "outputs": [],
   "source": [
    "final[\"Description\"] = final[\"Description\"].apply(lambda x: x[1:-1].split())"
   ]
  },
  {
   "cell_type": "code",
   "execution_count": null,
   "id": "ab7a1847",
   "metadata": {},
   "outputs": [],
   "source": [
    "final"
   ]
  },
  {
   "attachments": {},
   "cell_type": "markdown",
   "id": "2b6efe7a",
   "metadata": {},
   "source": [
    "### Removing spaces in all the tags."
   ]
  },
  {
   "cell_type": "code",
   "execution_count": null,
   "id": "23061d84",
   "metadata": {},
   "outputs": [],
   "source": [
    "final[\"Tags\"] = final[\"Tags\"].apply(lambda x:[i.replace(\" \",\"\") for i in x])"
   ]
  },
  {
   "attachments": {},
   "cell_type": "markdown",
   "id": "6e0d7f69",
   "metadata": {},
   "source": [
    "### Removing spaces in all the descriptions."
   ]
  },
  {
   "cell_type": "code",
   "execution_count": null,
   "id": "a4112ca5",
   "metadata": {},
   "outputs": [],
   "source": [
    "final[\"Description\"] = final[\"Description\"].apply(lambda x:[i.replace(\" \",\"\") for i in x])"
   ]
  },
  {
   "cell_type": "code",
   "execution_count": null,
   "id": "038502eb",
   "metadata": {},
   "outputs": [],
   "source": [
    "final"
   ]
  },
  {
   "cell_type": "code",
   "execution_count": null,
   "id": "b6048891",
   "metadata": {},
   "outputs": [],
   "source": [
    "final[\"Combined\"] = final[\"Tags\"]+final[\"Description\"]\n",
    "final"
   ]
  },
  {
   "cell_type": "code",
   "execution_count": null,
   "id": "3ca6bcbb",
   "metadata": {},
   "outputs": [],
   "source": [
    "o = final[[\"Name\",\"Combined\",\"Rating\"]]\n",
    "o.info()"
   ]
  },
  {
   "cell_type": "code",
   "execution_count": null,
   "id": "4ab062e1",
   "metadata": {},
   "outputs": [],
   "source": [
    "o[\"Combined\"] = o[\"Combined\"].apply(lambda x:\" \".join(x))"
   ]
  },
  {
   "cell_type": "code",
   "execution_count": null,
   "id": "d21b8925",
   "metadata": {},
   "outputs": [],
   "source": [
    "o[\"Combined\"] = o[\"Combined\"].apply(lambda x:x.lower())\n",
    "o"
   ]
  },
  {
   "cell_type": "code",
   "execution_count": null,
   "id": "3f1d4a7b",
   "metadata": {},
   "outputs": [],
   "source": [
    "import nltk\n",
    "from nltk.stem.porter import PorterStemmer"
   ]
  },
  {
   "cell_type": "code",
   "execution_count": null,
   "id": "d17def51",
   "metadata": {},
   "outputs": [],
   "source": [
    "ps = PorterStemmer()\n",
    "def helper(s):\n",
    "    l = []\n",
    "    for i in s.split():\n",
    "        l.append(ps.stem(i))\n",
    "    return \" \".join(l)\n"
   ]
  },
  {
   "cell_type": "code",
   "execution_count": null,
   "id": "1bbeb566",
   "metadata": {},
   "outputs": [],
   "source": [
    "o[\"Combined\"] = o[\"Combined\"].apply(helper)"
   ]
  },
  {
   "cell_type": "code",
   "execution_count": null,
   "id": "fce4c6a5",
   "metadata": {},
   "outputs": [],
   "source": [
    "from sklearn.feature_extraction.text import CountVectorizer\n",
    "cv = CountVectorizer(max_features=5000,stop_words=\"english\")"
   ]
  },
  {
   "cell_type": "code",
   "execution_count": null,
   "id": "67393d9a",
   "metadata": {},
   "outputs": [],
   "source": [
    "vectors = cv.fit_transform(o[\"Combined\"]).toarray()"
   ]
  },
  {
   "cell_type": "code",
   "execution_count": null,
   "metadata": {},
   "outputs": [],
   "source": [
    "k = cv.get_feature_names_out()\n",
    "for i in k:\n",
    "    print(i)"
   ]
  },
  {
   "cell_type": "code",
   "execution_count": null,
   "id": "6254bf0b",
   "metadata": {},
   "outputs": [],
   "source": [
    "from sklearn.metrics.pairwise import cosine_similarity"
   ]
  },
  {
   "cell_type": "code",
   "execution_count": null,
   "id": "2a3767eb",
   "metadata": {},
   "outputs": [],
   "source": [
    "similarity = cosine_similarity(vectors)"
   ]
  },
  {
   "cell_type": "code",
   "execution_count": null,
   "metadata": {},
   "outputs": [],
   "source": [
    "def recommend5animes(s):\n",
    "    idx = o[o[\"Name\"]==s].index[0]\n",
    "    l = []\n",
    "    for i in range(len(similarity)):\n",
    "        l.append((similarity[idx][i],o[\"Rating\"].iloc[i],i))\n",
    "    l.sort(reverse=True)\n",
    "    new = []\n",
    "    for i,j,k in l[1:6]:\n",
    "        new.append(o[\"Name\"].iloc[k])\n",
    "    return new\n",
    "\n",
    "recommend5animes(\"Deltora Quest\")\n",
    "\n"
   ]
  },
  {
   "cell_type": "code",
   "execution_count": null,
   "id": "032e9a14",
   "metadata": {},
   "outputs": [],
   "source": [
    "import pickle"
   ]
  },
  {
   "cell_type": "code",
   "execution_count": null,
   "id": "e2e1ad6e",
   "metadata": {},
   "outputs": [],
   "source": [
    "pickle.dump(similarity,open('anime_list.pkl','wb'))"
   ]
  },
  {
   "cell_type": "code",
   "execution_count": null,
   "id": "4e36bf85",
   "metadata": {},
   "outputs": [],
   "source": [
    "pickle.dump(o.to_dict(),open('movie_list.pkl','wb'))"
   ]
  }
 ],
 "metadata": {
  "kernelspec": {
   "display_name": "assignement2",
   "language": "python",
   "name": "python3"
  },
  "language_info": {
   "codemirror_mode": {
    "name": "ipython",
    "version": 3
   },
   "file_extension": ".py",
   "mimetype": "text/x-python",
   "name": "python",
   "nbconvert_exporter": "python",
   "pygments_lexer": "ipython3",
   "version": "3.12.7"
  }
 },
 "nbformat": 4,
 "nbformat_minor": 5
}
